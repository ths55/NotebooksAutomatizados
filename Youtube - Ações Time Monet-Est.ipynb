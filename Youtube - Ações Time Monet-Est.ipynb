{
 "cells": [
  {
   "cell_type": "code",
   "execution_count": 0,
   "metadata": {
    "application/vnd.databricks.v1+cell": {
     "cellMetadata": {
      "byteLimit": 2048000,
      "rowLimit": 10000
     },
     "inputWidgets": {},
     "nuid": "5a19104b-809b-4aa7-a67c-ab6b3141f22f",
     "showTitle": false,
     "title": ""
    },
    "jupyter": {
     "outputs_hidden": true
    }
   },
   "outputs": [
    {
     "output_type": "stream",
     "name": "stdout",
     "output_type": "stream",
     "text": [
      "\u001B[43mNote: you may need to restart the kernel using dbutils.library.restartPython() to use updated packages.\u001B[0m\nRequirement already satisfied: google-auth-httplib2 in /local_disk0/.ephemeral_nfs/cluster_libraries/python/lib/python3.10/site-packages (0.2.0)\nRequirement already satisfied: gspread in /local_disk0/.ephemeral_nfs/cluster_libraries/python/lib/python3.10/site-packages (6.1.0)\nRequirement already satisfied: df2gspread in /local_disk0/.ephemeral_nfs/cluster_libraries/python/lib/python3.10/site-packages (1.0.4)\nRequirement already satisfied: gspread_dataframe in /local_disk0/.ephemeral_nfs/cluster_libraries/python/lib/python3.10/site-packages (3.3.1)\nRequirement already satisfied: oauth2client in /local_disk0/.ephemeral_nfs/cluster_libraries/python/lib/python3.10/site-packages (4.1.3)\nRequirement already satisfied: xlrd==1.2.0 in /local_disk0/.ephemeral_nfs/cluster_libraries/python/lib/python3.10/site-packages (1.2.0)\nRequirement already satisfied: google-auth in /local_disk0/.ephemeral_nfs/cluster_libraries/python/lib/python3.10/site-packages (from google-auth-httplib2) (2.29.0)\nRequirement already satisfied: httplib2>=0.19.0 in /usr/lib/python3/dist-packages (from google-auth-httplib2) (0.20.2)\nRequirement already satisfied: google-auth-oauthlib>=0.4.1 in /local_disk0/.ephemeral_nfs/cluster_libraries/python/lib/python3.10/site-packages (from gspread) (1.2.0)\nRequirement already satisfied: StrEnum==0.4.15 in /local_disk0/.ephemeral_nfs/cluster_libraries/python/lib/python3.10/site-packages (from gspread) (0.4.15)\nRequirement already satisfied: pandas in /databricks/python3/lib/python3.10/site-packages (from df2gspread) (1.4.4)\nCollecting argparse>=1.3.0\n  Using cached argparse-1.4.0-py2.py3-none-any.whl (23 kB)\nRequirement already satisfied: google-api-python-client==1.6.7 in /local_disk0/.ephemeral_nfs/cluster_libraries/python/lib/python3.10/site-packages (from df2gspread) (1.6.7)\nRequirement already satisfied: six<2dev,>=1.6.1 in /usr/lib/python3/dist-packages (from google-api-python-client==1.6.7->df2gspread) (1.16.0)\nRequirement already satisfied: uritemplate<4dev,>=3.0.0 in /local_disk0/.ephemeral_nfs/cluster_libraries/python/lib/python3.10/site-packages (from google-api-python-client==1.6.7->df2gspread) (3.0.1)\nRequirement already satisfied: pyasn1-modules>=0.0.5 in /local_disk0/.ephemeral_nfs/cluster_libraries/python/lib/python3.10/site-packages (from oauth2client) (0.4.0)\nRequirement already satisfied: pyasn1>=0.1.7 in /local_disk0/.ephemeral_nfs/cluster_libraries/python/lib/python3.10/site-packages (from oauth2client) (0.6.0)\nRequirement already satisfied: rsa>=3.1.4 in /local_disk0/.ephemeral_nfs/cluster_libraries/python/lib/python3.10/site-packages (from oauth2client) (4.9)\nRequirement already satisfied: cachetools<6.0,>=2.0.0 in /local_disk0/.ephemeral_nfs/cluster_libraries/python/lib/python3.10/site-packages (from google-auth->google-auth-httplib2) (5.3.3)\nRequirement already satisfied: requests-oauthlib>=0.7.0 in /local_disk0/.ephemeral_nfs/cluster_libraries/python/lib/python3.10/site-packages (from google-auth-oauthlib>=0.4.1->gspread) (2.0.0)\nRequirement already satisfied: pyparsing!=3.0.0,!=3.0.1,!=3.0.2,!=3.0.3,<4,>=2.4.2 in /databricks/python3/lib/python3.10/site-packages (from httplib2>=0.19.0->google-auth-httplib2) (3.0.9)\nRequirement already satisfied: pytz>=2020.1 in /databricks/python3/lib/python3.10/site-packages (from pandas->df2gspread) (2022.1)\nRequirement already satisfied: python-dateutil>=2.8.1 in /databricks/python3/lib/python3.10/site-packages (from pandas->df2gspread) (2.8.2)\nRequirement already satisfied: numpy>=1.21.0 in /databricks/python3/lib/python3.10/site-packages (from pandas->df2gspread) (1.21.5)\nRequirement already satisfied: requests>=2.0.0 in /databricks/python3/lib/python3.10/site-packages (from requests-oauthlib>=0.7.0->google-auth-oauthlib>=0.4.1->gspread) (2.28.1)\nRequirement already satisfied: oauthlib>=3.0.0 in /usr/lib/python3/dist-packages (from requests-oauthlib>=0.7.0->google-auth-oauthlib>=0.4.1->gspread) (3.2.0)\nRequirement already satisfied: urllib3<1.27,>=1.21.1 in /databricks/python3/lib/python3.10/site-packages (from requests>=2.0.0->requests-oauthlib>=0.7.0->google-auth-oauthlib>=0.4.1->gspread) (1.26.11)\nRequirement already satisfied: certifi>=2017.4.17 in /databricks/python3/lib/python3.10/site-packages (from requests>=2.0.0->requests-oauthlib>=0.7.0->google-auth-oauthlib>=0.4.1->gspread) (2022.9.14)\nRequirement already satisfied: charset-normalizer<3,>=2 in /databricks/python3/lib/python3.10/site-packages (from requests>=2.0.0->requests-oauthlib>=0.7.0->google-auth-oauthlib>=0.4.1->gspread) (2.0.4)\nRequirement already satisfied: idna<4,>=2.5 in /databricks/python3/lib/python3.10/site-packages (from requests>=2.0.0->requests-oauthlib>=0.7.0->google-auth-oauthlib>=0.4.1->gspread) (3.3)\nInstalling collected packages: argparse\nSuccessfully installed argparse-1.4.0\n\u001B[43mNote: you may need to restart the kernel using dbutils.library.restartPython() to use updated packages.\u001B[0m\n"
     ]
    }
   ],
   "source": [
    "pip install google-auth-httplib2 gspread df2gspread gspread_dataframe oauth2client xlrd==1.2.0"
   ]
  },
  {
   "cell_type": "code",
   "execution_count": 0,
   "metadata": {
    "application/vnd.databricks.v1+cell": {
     "cellMetadata": {
      "byteLimit": 2048000,
      "rowLimit": 10000
     },
     "inputWidgets": {},
     "nuid": "4d16b86c-161a-418a-a1b6-eb8ff4e70795",
     "showTitle": false,
     "title": ""
    }
   },
   "outputs": [],
   "source": [
    "ID = '13Cb-zxdQjxLcFKsjL-65xTnNf8fqBt5DT-QEY0sUe5Y'"
   ]
  },
  {
   "cell_type": "code",
   "execution_count": 0,
   "metadata": {
    "application/vnd.databricks.v1+cell": {
     "cellMetadata": {
      "byteLimit": 2048000,
      "rowLimit": 10000
     },
     "inputWidgets": {},
     "nuid": "a766896f-88b8-4863-85fa-ad40dbcf63fd",
     "showTitle": false,
     "title": ""
    }
   },
   "outputs": [],
   "source": [
    "import pandas as pd\n",
    "from oauth2client.service_account import ServiceAccountCredentials as cred\n",
    "import json\n",
    "import gspread as gs\n",
    "import df2gspread as d2g\n",
    "from gspread_dataframe import get_as_dataframe, set_with_dataframe\n",
    "from google.oauth2 import service_account\n",
    "from googleapiclient.discovery import build\n",
    "import numpy as np"
   ]
  },
  {
   "cell_type": "code",
   "execution_count": 0,
   "metadata": {
    "application/vnd.databricks.v1+cell": {
     "cellMetadata": {
      "byteLimit": 2048000,
      "rowLimit": 10000
     },
     "inputWidgets": {},
     "nuid": "45c7867d-4411-4c24-bfc0-142db3a2f1a0",
     "showTitle": false,
     "title": ""
    }
   },
   "outputs": [],
   "source": [
    "creds = service_account.Credentials.from_service_account_file(\n",
    "    '/dbfs/FileStore/shared_uploads/dssilvestre@band.com.br/python_databricks_ecb24878ff71-2.json')\n",
    "scoped_credentials = creds.with_scopes(\n",
    "    ['https://www.googleapis.com/auth/spreadsheets'])\n",
    "service = build('sheets','v4',credentials=creds)\n",
    "sheet = service.spreadsheets()\n",
    "gc = gs.service_account('/dbfs/FileStore/shared_uploads/dssilvestre@band.com.br/python_databricks_ecb24878ff71-1.json')\n",
    "wks = gc.open_by_key(ID)"
   ]
  },
  {
   "cell_type": "code",
   "execution_count": 0,
   "metadata": {
    "application/vnd.databricks.v1+cell": {
     "cellMetadata": {
      "byteLimit": 2048000,
      "implicitDf": true,
      "rowLimit": 10000
     },
     "inputWidgets": {},
     "nuid": "77df0e3b-93ff-4abe-a2d0-fc4685ffd9c7",
     "showTitle": true,
     "title": "4/2/2024 (3s)"
    }
   },
   "outputs": [],
   "source": [
    "ResultadosYT = spark.sql(\"\"\"\n",
    "with tb_videos as \n",
    "(\n",
    "  select\n",
    "    to_date(publishedAt) as date,\n",
    "    video_id,\n",
    "    video_title, \n",
    "    video_link\n",
    "  from gold.youtube_dim_videos\n",
    "  where lower (video_title) like '%aconteceu na semana%'\n",
    "      or lower (video_title) like '%destaque da semana%'\n",
    "      or lower (video_title) like '%baú %' or lower (video_title) like '%bau %'\n",
    "      or lower (video_title) like '%reapresentação%' \n",
    "      or lower (video_title) like '%reapresentacao%' \n",
    "      or lower (video_title) like '%reapresentaçao%' \n",
    "      or lower (video_title) like '%reapresentacão%'\n",
    "),\n",
    "tb_views as \n",
    "(\n",
    "  select \n",
    "    video_id, \n",
    "    coalesce(channel_id, page_id) as channel_id,\n",
    "    sum(views) as views,\n",
    "    sum(comments) as comentarios,\n",
    "    sum(shares) as compartilhamentos,\n",
    "    sum(likes) as likes,\n",
    "    sum(dislikes) as dislikes,\n",
    "    sum(subscribers_gained) - sum(subscribers_lost) as subscribers\n",
    "  from gold.youtube_owner_basic\n",
    "  group by video_id, coalesce(channel_id, page_id)\n",
    "),\n",
    "tb_receita as \n",
    "(\n",
    "  select\n",
    "    video_id,\n",
    "    sum(estimated_partner_revenue) as receita\n",
    "  from gold.youtube_estimated_revenue\n",
    "  group by video_id\n",
    ")\n",
    "  select\n",
    "    a.date,\n",
    "    d.channel_title,\n",
    "    a.video_title, \n",
    "    a.video_link,\n",
    "    sum(c.receita) as receita,\n",
    "    sum(b.views) as views,\n",
    "    sum(b.comentarios) as comentarios,\n",
    "    sum(b.compartilhamentos) as compartilhamentos,\n",
    "    sum(b.likes) as likes,\n",
    "    sum(b.dislikes) as dislikes,\n",
    "    sum(b.subscribers) as inscritos\n",
    "  from tb_videos a\n",
    "  left join tb_views b on a.video_id = b.video_id\n",
    "  left join tb_receita c on a.video_id = c.video_id\n",
    "  left join gold.youtube_dim_channels d on d.channel_id = b.channel_id\n",
    "  where a.date >= to_date('2022-01-01')\n",
    "  group by \n",
    "    a.date,\n",
    "    d.channel_title,\n",
    "    a.video_title, \n",
    "    a.video_link\n",
    "  order by a.date asc\n",
    "\"\"\").toPandas()"
   ]
  },
  {
   "cell_type": "code",
   "execution_count": 0,
   "metadata": {
    "application/vnd.databricks.v1+cell": {
     "cellMetadata": {
      "byteLimit": 2048000,
      "rowLimit": 10000
     },
     "inputWidgets": {},
     "nuid": "7d3d4ce9-eb76-4926-a654-bd9b991547a1",
     "showTitle": false,
     "title": ""
    }
   },
   "outputs": [],
   "source": [
    "set_with_dataframe(wks.worksheet(\"ResultadosYT\"), ResultadosYT, include_index = False, include_column_header= True)"
   ]
  }
 ],
 "metadata": {
  "application/vnd.databricks.v1+notebook": {
   "dashboards": [],
   "environmentMetadata": null,
   "language": "python",
   "notebookMetadata": {
    "mostRecentlyExecutedCommandWithImplicitDF": {
     "commandId": 3961029086351611,
     "dataframes": [
      "_sqldf"
     ]
    },
    "pythonIndentUnit": 2
   },
   "notebookName": "Youtube - Ações Time Monet-Est",
   "widgets": {}
  }
 },
 "nbformat": 4,
 "nbformat_minor": 0
}
